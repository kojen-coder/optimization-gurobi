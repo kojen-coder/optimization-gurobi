{
 "cells": [
  {
   "cell_type": "markdown",
   "source": [
    "## Balanced Transportation Network Optimization"
   ],
   "metadata": {
    "collapsed": false
   }
  },
  {
   "cell_type": "code",
   "execution_count": 1,
   "outputs": [],
   "source": [
    "#Import data (parameters)\n",
    "cost = [[3800, 4000, 6000],\n",
    "       [3300, 3500, 5950],\n",
    "       [2800, 4000, 6200],\n",
    "       [2000, 4300, 5000]]\n",
    "supply = [400, 900, 200, 500]\n",
    "demand = [500, 700, 800]\n",
    "\n",
    "SupplyCity = ['Singapore','Hong Kong','TaiPei','Seoul']\n",
    "DemandCity = ['London','Paris','New York']"
   ],
   "metadata": {
    "collapsed": false
   }
  },
  {
   "cell_type": "code",
   "execution_count": 2,
   "id": "d71449b0-41b7-4497-adb5-2814e1b836c2",
   "metadata": {
    "tags": []
   },
   "outputs": [],
   "source": [
    "S = len(SupplyCity)\n",
    "D = len(DemandCity)"
   ]
  },
  {
   "cell_type": "code",
   "execution_count": 3,
   "id": "4fce6821-b077-4128-b7b9-07e5a85bf80a",
   "metadata": {
    "tags": []
   },
   "outputs": [],
   "source": [
    "import gurobipy as gb\n",
    "from gurobipy import *\n",
    "import numpy as np"
   ]
  },
  {
   "cell_type": "code",
   "execution_count": 4,
   "id": "ac3c16f2-53f5-4261-a4f6-92f3ff5782db",
   "metadata": {
    "tags": []
   },
   "outputs": [
    {
     "name": "stdout",
     "output_type": "stream",
     "text": [
      "Set parameter Username\n",
      "Academic license - for non-commercial use only - expires 2024-08-30\n"
     ]
    }
   ],
   "source": [
    "prob = gb.Model(\"Trasnsportation problem-Balanced\")"
   ]
  },
  {
   "cell_type": "code",
   "execution_count": 5,
   "id": "8c0ee7d9-6b9d-4b3b-9e85-8d57bb43d534",
   "metadata": {
    "tags": []
   },
   "outputs": [],
   "source": [
    "# This is a dictionary. But typically, we use numpy for matrix format.\n",
    "\n",
    "X = prob.addVars(S, D, lb=0, vtype=GRB.CONTINUOUS, name = [\"X_\"+i+\"_\"+j for i in SupplyCity for j in DemandCity])"
   ]
  },
  {
   "cell_type": "code",
   "execution_count": null,
   "id": "bf909b8a-6781-48a3-bf5a-81ad59e37a35",
   "metadata": {
    "tags": []
   },
   "outputs": [],
   "source": [
    "# We should make it as a Matrix\n",
    "\n",
    "# X = prob.addMVar(shape = (S,D),lb=0, vtype=GRB.CONTINUOUS, name = [\"X_\"+i+\"_\"+j for i in SupplyCity for j in DemandCity])"
   ]
  },
  {
   "cell_type": "code",
   "execution_count": 6,
   "id": "ecdf737c-c87e-4488-8005-d66d2bf59c6c",
   "metadata": {
    "tags": []
   },
   "outputs": [
    {
     "data": {
      "text/plain": [
       "{(0, 0): <gurobi.Var *Awaiting Model Update*>,\n",
       " (0, 1): <gurobi.Var *Awaiting Model Update*>,\n",
       " (0, 2): <gurobi.Var *Awaiting Model Update*>,\n",
       " (1, 0): <gurobi.Var *Awaiting Model Update*>,\n",
       " (1, 1): <gurobi.Var *Awaiting Model Update*>,\n",
       " (1, 2): <gurobi.Var *Awaiting Model Update*>,\n",
       " (2, 0): <gurobi.Var *Awaiting Model Update*>,\n",
       " (2, 1): <gurobi.Var *Awaiting Model Update*>,\n",
       " (2, 2): <gurobi.Var *Awaiting Model Update*>,\n",
       " (3, 0): <gurobi.Var *Awaiting Model Update*>,\n",
       " (3, 1): <gurobi.Var *Awaiting Model Update*>,\n",
       " (3, 2): <gurobi.Var *Awaiting Model Update*>}"
      ]
     },
     "execution_count": 6,
     "metadata": {},
     "output_type": "execute_result"
    }
   ],
   "source": [
    "X"
   ]
  },
  {
   "cell_type": "code",
   "execution_count": 7,
   "id": "2c4d83a4-5451-48ed-83c8-7c26cc2e2f0f",
   "metadata": {
    "tags": []
   },
   "outputs": [
    {
     "data": {
      "text/plain": [
       "gurobipy.tupledict"
      ]
     },
     "execution_count": 7,
     "metadata": {},
     "output_type": "execute_result"
    }
   ],
   "source": [
    "type(X) "
   ]
  },
  {
   "cell_type": "code",
   "execution_count": 8,
   "id": "6d2993ac-aaaa-4bd7-9859-756f76723023",
   "metadata": {
    "tags": []
   },
   "outputs": [],
   "source": [
    "prob.setObjective(sum(cost[i][j]*X[i, j] for i in range(S) for j in range(D)), GRB.MINIMIZE)"
   ]
  },
  {
   "cell_type": "code",
   "execution_count": 11,
   "id": "908cc3df-2066-405c-af76-873ae8d27306",
   "metadata": {
    "tags": []
   },
   "outputs": [],
   "source": [
    "for i in range(S):\n",
    "    prob.addConstr(sum(X[i, j] for j in range(D)) <= supply[i])"
   ]
  },
  {
   "cell_type": "code",
   "execution_count": 12,
   "id": "2956dcd7-600d-4fcf-92a7-2b93c777c862",
   "metadata": {},
   "outputs": [],
   "source": [
    "# for j in range(D):\n",
    "#     prob.addConstr(sum(x[i, j] for i in range(S) >= demand[j])"
   ]
  },
  {
   "cell_type": "code",
   "execution_count": 13,
   "id": "df213f9d-3fc9-423c-bbe3-40fa35e868e5",
   "metadata": {
    "tags": []
   },
   "outputs": [
    {
     "data": {
      "text/plain": [
       "{0: <gurobi.Constr *Awaiting Model Update*>,\n",
       " 1: <gurobi.Constr *Awaiting Model Update*>,\n",
       " 2: <gurobi.Constr *Awaiting Model Update*>}"
      ]
     },
     "execution_count": 13,
     "metadata": {},
     "output_type": "execute_result"
    }
   ],
   "source": [
    "# more elegant code\n",
    "prob.addConstrs(sum(X[i,j] for i in range(S)) >= demand[j] for j in range(D))"
   ]
  },
  {
   "cell_type": "code",
   "execution_count": 15,
   "id": "700011d6-6816-47cf-abb6-cd87820b85fb",
   "metadata": {},
   "outputs": [
    {
     "name": "stdout",
     "output_type": "stream",
     "text": [
      "Gurobi Optimizer version 10.0.2 build v10.0.2rc0 (mac64[x86])\n",
      "\n",
      "CPU model: Intel(R) Core(TM) i9-9880H CPU @ 2.30GHz\n",
      "Thread count: 8 physical cores, 16 logical processors, using up to 16 threads\n",
      "\n",
      "Optimize a model with 10 rows, 12 columns and 36 nonzeros\n",
      "Model fingerprint: 0xc9a7c6fb\n",
      "Coefficient statistics:\n",
      "  Matrix range     [1e+00, 1e+00]\n",
      "  Objective range  [2e+03, 6e+03]\n",
      "  Bounds range     [0e+00, 0e+00]\n",
      "  RHS range        [2e+02, 9e+02]\n",
      "Presolve removed 3 rows and 0 columns\n",
      "Presolve time: 0.01s\n",
      "Presolved: 7 rows, 12 columns, 24 nonzeros\n",
      "\n",
      "Iteration    Objective       Primal Inf.    Dual Inf.      Time\n",
      "       0    0.0000000e+00   2.500000e+02   0.000000e+00      0s\n",
      "       6    8.2000000e+06   0.000000e+00   0.000000e+00      0s\n",
      "\n",
      "Solved in 6 iterations and 0.01 seconds (0.00 work units)\n",
      "Optimal objective  8.200000000e+06\n"
     ]
    }
   ],
   "source": [
    "prob.optimize()"
   ]
  },
  {
   "cell_type": "code",
   "execution_count": 16,
   "id": "55330b48-b136-48c0-88c1-c06a5c5af6ea",
   "metadata": {
    "tags": []
   },
   "outputs": [
    {
     "name": "stdout",
     "output_type": "stream",
     "text": [
      "X_Singapore_New York = 400.0\n",
      "X_Hong Kong_Paris = 700.0\n",
      "X_Hong Kong_New York = 200.0\n",
      "X_TaiPei_London = 200.0\n",
      "X_Seoul_London = 300.0\n",
      "X_Seoul_New York = 200.0\n"
     ]
    }
   ],
   "source": [
    "for v in prob.getVars():\n",
    "    if v.x > 0:\n",
    "        print(v.varName, \"=\", v.x)"
   ]
  }
 ],
 "metadata": {
  "kernelspec": {
   "display_name": "Python 3 (ipykernel)",
   "language": "python",
   "name": "python3"
  },
  "language_info": {
   "codemirror_mode": {
    "name": "ipython",
    "version": 3
   },
   "file_extension": ".py",
   "mimetype": "text/x-python",
   "name": "python",
   "nbconvert_exporter": "python",
   "pygments_lexer": "ipython3",
   "version": "3.10.11"
  }
 },
 "nbformat": 4,
 "nbformat_minor": 5
}
