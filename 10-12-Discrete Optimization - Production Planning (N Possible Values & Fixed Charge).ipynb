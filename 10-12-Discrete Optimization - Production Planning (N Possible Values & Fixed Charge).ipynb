{
 "cells": [
  {
   "cell_type": "markdown",
   "id": "c4ddc44c",
   "metadata": {},
   "source": [
    "# Production Planning\n",
    "Slide 40\n",
    "\n",
    "### N Possible Values"
   ]
  },
  {
   "cell_type": "code",
   "execution_count": 1,
   "id": "33355b55",
   "metadata": {},
   "outputs": [],
   "source": [
    "import pandas as pd\n",
    "import numpy as np\n",
    "\n",
    "import gurobipy as gb\n",
    "from gurobipy import *\n",
    "from gurobipy import Model, GRB, quicksum as sum"
   ]
  },
  {
   "cell_type": "code",
   "execution_count": 2,
   "id": "2c8e6b3a",
   "metadata": {},
   "outputs": [],
   "source": [
    "product = ['A1', 'A2', 'A3', 'A4']\n",
    "y_days = ['Y1', 'Y2', 'Y3', 'Y4']\n",
    "profit = [62, 84, 103, 125]\n",
    "upper = [8, 17, 11, 15]\n",
    "days = [270, 300, 345, 360]\n",
    "p = len(product)\n",
    "y = len(y_days)"
   ]
  },
  {
   "cell_type": "code",
   "execution_count": 3,
   "id": "0036f4f7",
   "metadata": {},
   "outputs": [
    {
     "name": "stdout",
     "output_type": "stream",
     "text": [
      "Set parameter Username\n",
      "Academic license - for non-commercial use only - expires 2024-08-30\n"
     ]
    }
   ],
   "source": [
    "prob = gb.Model(\"Production Planning\")"
   ]
  },
  {
   "cell_type": "code",
   "execution_count": 4,
   "id": "0f5b7e89",
   "metadata": {},
   "outputs": [],
   "source": [
    "X = prob.addVar(lb = 0, vtype = GRB.INTEGER, name = \"X\")"
   ]
  },
  {
   "cell_type": "code",
   "execution_count": 5,
   "id": "b9c1a113",
   "metadata": {},
   "outputs": [],
   "source": [
    "Y = prob.addVars(y, lb = 0, ub = 1, vtype = GRB.BINARY, name = y_days)"
   ]
  },
  {
   "cell_type": "code",
   "execution_count": 6,
   "id": "3a6d6970",
   "metadata": {},
   "outputs": [],
   "source": [
    "A = prob.addVars(p, lb = 0, ub=upper, vtype = GRB.INTEGER, name = product)"
   ]
  },
  {
   "cell_type": "code",
   "execution_count": 7,
   "id": "39defe62",
   "metadata": {},
   "outputs": [],
   "source": [
    "prob.setObjective(sum(profit[i]*A[i] - (X - 270) for i in range(p))*1000, GRB.MAXIMIZE)"
   ]
  },
  {
   "cell_type": "code",
   "execution_count": 8,
   "id": "cc05cd53",
   "metadata": {},
   "outputs": [
    {
     "data": {
      "text/plain": [
       "<gurobi.Constr *Awaiting Model Update*>"
      ]
     },
     "execution_count": 8,
     "metadata": {},
     "output_type": "execute_result"
    }
   ],
   "source": [
    "prob.addConstr(sum(days[i]*Y[i] for i in range(p)) == X, name = \"Total manufacturing days\") "
   ]
  },
  {
   "cell_type": "code",
   "execution_count": 9,
   "id": "8dbdd08f",
   "metadata": {},
   "outputs": [
    {
     "data": {
      "text/plain": [
       "<gurobi.Constr *Awaiting Model Update*>"
      ]
     },
     "execution_count": 9,
     "metadata": {},
     "output_type": "execute_result"
    }
   ],
   "source": [
    "prob.addConstr(sum(Y[i] for i in range(p)) == 1, name = \"Additional days option\") "
   ]
  },
  {
   "cell_type": "code",
   "execution_count": 10,
   "id": "85c8622b",
   "metadata": {},
   "outputs": [
    {
     "name": "stdout",
     "output_type": "stream",
     "text": [
      "Gurobi Optimizer version 10.0.2 build v10.0.2rc0 (mac64[x86])\n",
      "\n",
      "CPU model: Intel(R) Core(TM) i9-9880H CPU @ 2.30GHz\n",
      "Thread count: 8 physical cores, 16 logical processors, using up to 16 threads\n",
      "\n",
      "Optimize a model with 2 rows, 9 columns and 9 nonzeros\n",
      "Model fingerprint: 0x8a2a8e34\n",
      "Variable types: 0 continuous, 9 integer (4 binary)\n",
      "Coefficient statistics:\n",
      "  Matrix range     [1e+00, 4e+02]\n",
      "  Objective range  [4e+03, 1e+05]\n",
      "  Bounds range     [1e+00, 2e+01]\n",
      "  RHS range        [1e+00, 1e+00]\n",
      "Presolve removed 2 rows and 9 columns\n",
      "Presolve time: 0.00s\n",
      "Presolve: All rows and columns removed\n",
      "\n",
      "Explored 0 nodes (0 simplex iterations) in 0.01 seconds (0.00 work units)\n",
      "Thread count was 1 (of 16 available processors)\n",
      "\n",
      "Solution count 1: 4.932e+06 \n",
      "\n",
      "Optimal solution found (tolerance 1.00e-04)\n",
      "Best objective 4.932000000000e+06, best bound 4.932000000000e+06, gap 0.0000%\n"
     ]
    }
   ],
   "source": [
    "prob.optimize()"
   ]
  },
  {
   "cell_type": "code",
   "execution_count": 11,
   "id": "a3bba296",
   "metadata": {},
   "outputs": [
    {
     "name": "stdout",
     "output_type": "stream",
     "text": [
      "X = 270\n",
      "Y1 = 1\n",
      "Y2 = 0\n",
      "Y3 = 0\n",
      "Y4 = 0\n",
      "A1 = 8\n",
      "A2 = 17\n",
      "A3 = 11\n",
      "A4 = 15\n",
      "Optimal Objective Value: 4932000.0\n"
     ]
    }
   ],
   "source": [
    "for v in prob.getVars():    \n",
    "    print(v.varName, \"=\", round(v.X))\n",
    "print(f\"Optimal Objective Value: {prob.ObjVal}\")"
   ]
  },
  {
   "cell_type": "markdown",
   "id": "a9291056",
   "metadata": {},
   "source": [
    "In class notes\n",
    "- N Possible values (Discrete Optimization Page 41)\n",
    "- add X\n",
    "- add yi\n",
    "- edit objective function: same function -(X-270)*1000\n",
    "- X = 270y1+...\n",
    "- sum(yi)=1\n",
    "- X= 270, y1=1, y2...y4=0, The optimal soultion won't be changing as the answer is the same."
   ]
  },
  {
   "cell_type": "markdown",
   "id": "645c40e0",
   "metadata": {},
   "source": [
    "### The Fixed Charge Problem"
   ]
  },
  {
   "cell_type": "code",
   "execution_count": 12,
   "id": "7d108d07",
   "metadata": {},
   "outputs": [],
   "source": [
    "import pandas as pd\n",
    "import numpy as np\n",
    "\n",
    "import gurobipy as gb\n",
    "from gurobipy import *\n",
    "from gurobipy import Model, GRB, quicksum as sum"
   ]
  },
  {
   "cell_type": "code",
   "execution_count": 13,
   "id": "abc5e90c",
   "metadata": {},
   "outputs": [],
   "source": [
    "prob = gb.Model(\"Fixed Charge Problem\")"
   ]
  },
  {
   "cell_type": "code",
   "execution_count": 14,
   "id": "ef07cde8",
   "metadata": {},
   "outputs": [],
   "source": [
    "A = prob.addVars(p, lb=0, ub=upper, vtype=GRB.INTEGER, name = product)"
   ]
  },
  {
   "cell_type": "code",
   "execution_count": 15,
   "id": "46d53731",
   "metadata": {},
   "outputs": [],
   "source": [
    "X = prob.addVar(lb=0, vtype=GRB.INTEGER, name=\"X\") # X = the increase in the number of days"
   ]
  },
  {
   "cell_type": "code",
   "execution_count": 16,
   "id": "92b0b961",
   "metadata": {},
   "outputs": [],
   "source": [
    "Y = prob.addVar(lb=0, ub=1, vtype=GRB.BINARY, name = \"Y\")"
   ]
  },
  {
   "cell_type": "code",
   "execution_count": 17,
   "id": "0e98e6f7",
   "metadata": {},
   "outputs": [],
   "source": [
    "# $2500 fixed cost, charges $1000 per manufacturing days\n",
    "prob.setObjective(sum(profit[i]*A[i]-(2500*Y + 1000*X) for i in range(p))*1000, GRB.MAXIMIZE)"
   ]
  },
  {
   "cell_type": "code",
   "execution_count": 18,
   "id": "cd6cb052",
   "metadata": {},
   "outputs": [
    {
     "data": {
      "text/plain": [
       "<gurobi.Constr *Awaiting Model Update*>"
      ]
     },
     "execution_count": 18,
     "metadata": {},
     "output_type": "execute_result"
    }
   ],
   "source": [
    "manu_days = [4, 7, 9, 11]\n",
    "prob.addConstr(sum(manu_days[i]*A[i] for i in range(p)) <= 270 + X, name = \"Manufacturing Days Constraint 1\") \n",
    "\n",
    "# adding 270 + X -> bc if y =1, M is a large number, so X might be really large? So we need a constraint?!"
   ]
  },
  {
   "cell_type": "code",
   "execution_count": 19,
   "id": "d9786370",
   "metadata": {},
   "outputs": [
    {
     "data": {
      "text/plain": [
       "<gurobi.Constr *Awaiting Model Update*>"
      ]
     },
     "execution_count": 19,
     "metadata": {},
     "output_type": "execute_result"
    }
   ],
   "source": [
    "M = 1000000  # M is a large number\n",
    "prob.addConstr(X <= M * Y, name = \"Manufacturing Days Constraint 2\") "
   ]
  },
  {
   "cell_type": "code",
   "execution_count": 20,
   "id": "6a85738c",
   "metadata": {},
   "outputs": [],
   "source": [
    "prob.setObjective(sum(profit[i]*A[i] - (2500*Y + 1000*X) for i in range(p)), GRB.MAXIMIZE)"
   ]
  },
  {
   "cell_type": "code",
   "execution_count": 21,
   "id": "43fc905b",
   "metadata": {},
   "outputs": [
    {
     "name": "stdout",
     "output_type": "stream",
     "text": [
      "Gurobi Optimizer version 10.0.2 build v10.0.2rc0 (mac64[x86])\n",
      "\n",
      "CPU model: Intel(R) Core(TM) i9-9880H CPU @ 2.30GHz\n",
      "Thread count: 8 physical cores, 16 logical processors, using up to 16 threads\n",
      "\n",
      "Optimize a model with 2 rows, 6 columns and 7 nonzeros\n",
      "Model fingerprint: 0x02ea2d5e\n",
      "Variable types: 0 continuous, 6 integer (1 binary)\n",
      "Coefficient statistics:\n",
      "  Matrix range     [1e+00, 1e+06]\n",
      "  Objective range  [6e+01, 1e+04]\n",
      "  Bounds range     [1e+00, 2e+01]\n",
      "  RHS range        [3e+02, 3e+02]\n",
      "Found heuristic solution: objective 3182.0000000\n",
      "Presolve removed 2 rows and 6 columns\n",
      "Presolve time: 0.00s\n",
      "Presolve: All rows and columns removed\n",
      "\n",
      "Explored 0 nodes (0 simplex iterations) in 0.01 seconds (0.00 work units)\n",
      "Thread count was 1 (of 16 available processors)\n",
      "\n",
      "Solution count 2: 3277 3182 \n",
      "\n",
      "Optimal solution found (tolerance 1.00e-04)\n",
      "Best objective 3.277000000000e+03, best bound 3.277000000000e+03, gap 0.0000%\n"
     ]
    }
   ],
   "source": [
    "prob.optimize()"
   ]
  },
  {
   "cell_type": "code",
   "execution_count": 22,
   "id": "9169b46e",
   "metadata": {},
   "outputs": [
    {
     "name": "stdout",
     "output_type": "stream",
     "text": [
      "A1 = 8\n",
      "A2 = 17\n",
      "A3 = 1\n",
      "A4 = 10\n",
      "X = 0\n",
      "Y = 0\n",
      "Optimal Objective Value: 3277.0\n"
     ]
    }
   ],
   "source": [
    "for v in prob.getVars():    \n",
    "    print(v.varName, \"=\", round(v.X))\n",
    "print(f\"Optimal Objective Value: {prob.ObjVal}\")"
   ]
  },
  {
   "cell_type": "markdown",
   "id": "2dc6405d",
   "metadata": {},
   "source": [
    "- X, Y\n",
    "- old object function -(2500y + 1000X)\n",
    "- Constrs. \n",
    "- 4A1 + 7A2 + 9A3 + 11A4 <= 270+ X\n",
    "- X <= M*Y\n",
    "- Result: X=0. I do not buy any manufacturing days.\n",
    "- This problem: how can we capture fixed cost? And the above probem is about ho to capture the additional manufacturing days"
   ]
  },
  {
   "cell_type": "code",
   "execution_count": null,
   "id": "6900414e",
   "metadata": {},
   "outputs": [],
   "source": []
  }
 ],
 "metadata": {
  "kernelspec": {
   "display_name": "opt",
   "language": "python",
   "name": "opt"
  },
  "language_info": {
   "codemirror_mode": {
    "name": "ipython",
    "version": 3
   },
   "file_extension": ".py",
   "mimetype": "text/x-python",
   "name": "python",
   "nbconvert_exporter": "python",
   "pygments_lexer": "ipython3",
   "version": "3.11.4"
  }
 },
 "nbformat": 4,
 "nbformat_minor": 5
}
