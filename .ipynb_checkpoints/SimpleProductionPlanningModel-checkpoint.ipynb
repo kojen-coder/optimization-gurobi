{
 "cells": [
  {
   "cell_type": "code",
   "execution_count": 1,
   "id": "c463c85b",
   "metadata": {},
   "outputs": [],
   "source": [
    "## Install Gurobi\n",
    "# !conda config --add channels http://conda.anaconda.org/gurobi\n",
    "# !conda install gurobi --yes\n",
    "# from gurobipy import *\n",
    "# test = Model()\n",
    "# test.optimize()"
   ]
  },
  {
   "cell_type": "markdown",
   "id": "a9d02b19",
   "metadata": {
    "tags": []
   },
   "source": [
    "## Aug 31: Production Planning Optimization Models"
   ]
  },
  {
   "cell_type": "code",
   "execution_count": 2,
   "id": "8b6692b2",
   "metadata": {},
   "outputs": [
    {
     "data": {
      "text/plain": [
       "'\\nmaximize 0.13W + 0.10P\\nsubject to 1.5W + 1.0P ≤ 27, 000\\n1.0W + 1.0P ≤ 21, 000\\n0.3W + 0.5P ≤ 9, 000\\nW ≤ 15, 000\\nP ≤ 16, 000\\nW, P ≥ 0\\n'"
      ]
     },
     "execution_count": 2,
     "metadata": {},
     "output_type": "execute_result"
    }
   ],
   "source": [
    "'''\n",
    "maximize 0.13W + 0.10P\n",
    "subject to 1.5W + 1.0P ≤ 27, 000\n",
    "1.0W + 1.0P ≤ 21, 000\n",
    "0.3W + 0.5P ≤ 9, 000\n",
    "W ≤ 15, 000\n",
    "P ≤ 16, 000\n",
    "W, P ≥ 0\n",
    "'''"
   ]
  },
  {
   "cell_type": "code",
   "execution_count": 3,
   "id": "c3047dc4",
   "metadata": {},
   "outputs": [],
   "source": [
    "# Production Planning Example\n",
    "\n",
    "import gurobipy as gb\n",
    "from gurobipy import *"
   ]
  },
  {
   "cell_type": "code",
   "execution_count": 4,
   "id": "c4bd784c",
   "metadata": {},
   "outputs": [
    {
     "name": "stdout",
     "output_type": "stream",
     "text": [
      "Set parameter Username\n",
      "Academic license - for non-commercial use only - expires 2024-08-30\n"
     ]
    }
   ],
   "source": [
    "prob = gb.Model(\"GTC production plannin-2023 section 2\")"
   ]
  },
  {
   "cell_type": "code",
   "execution_count": 5,
   "id": "b1aae027",
   "metadata": {},
   "outputs": [],
   "source": [
    "W = prob.addVar(name = \"Number of wrenches\", vtype = GRB.CONTINUOUS, lb = 0, ub = 15000)\n",
    "P = prob.addVar(name = \"Number of pliers\", vtype = GRB.CONTINUOUS, lb = 0, ub = 16000)"
   ]
  },
  {
   "cell_type": "code",
   "execution_count": 6,
   "id": "9fb714a2",
   "metadata": {},
   "outputs": [],
   "source": [
    "prob.setObjective(0.13*W+0.1*P, GRB.MAXIMIZE)"
   ]
  },
  {
   "cell_type": "code",
   "execution_count": 7,
   "id": "3d398d59",
   "metadata": {},
   "outputs": [
    {
     "data": {
      "text/plain": [
       "<gurobi.Constr *Awaiting Model Update*>"
      ]
     },
     "execution_count": 7,
     "metadata": {},
     "output_type": "execute_result"
    }
   ],
   "source": [
    "prob.addConstr(1.5*W+1*P <= 27000, name =\"Ava of steel\") # constraint\n",
    "prob.addConstr(1*W+1*P <= 21000, name =\"Ava of time on molding machine\")\n",
    "prob.addConstr(0.3*W+0.5*P <= 9000, name =\"Ava of time on assembly machine\")"
   ]
  },
  {
   "cell_type": "code",
   "execution_count": 8,
   "id": "365166e6",
   "metadata": {},
   "outputs": [
    {
     "name": "stdout",
     "output_type": "stream",
     "text": [
      "Gurobi Optimizer version 10.0.2 build v10.0.2rc0 (mac64[x86])\n",
      "\n",
      "CPU model: Intel(R) Core(TM) i9-9880H CPU @ 2.30GHz\n",
      "Thread count: 8 physical cores, 16 logical processors, using up to 16 threads\n",
      "\n",
      "Optimize a model with 3 rows, 2 columns and 6 nonzeros\n",
      "Model fingerprint: 0x01a17661\n",
      "Coefficient statistics:\n",
      "  Matrix range     [3e-01, 2e+00]\n",
      "  Objective range  [1e-01, 1e-01]\n",
      "  Bounds range     [2e+04, 2e+04]\n",
      "  RHS range        [9e+03, 3e+04]\n",
      "Presolve time: 0.00s\n",
      "Presolved: 3 rows, 2 columns, 6 nonzeros\n",
      "\n",
      "Iteration    Objective       Primal Inf.    Dual Inf.      Time\n",
      "       0    2.7000000e+03   3.250000e+03   0.000000e+00      0s\n",
      "       3    2.4600000e+03   0.000000e+00   0.000000e+00      0s\n",
      "\n",
      "Solved in 3 iterations and 0.01 seconds (0.00 work units)\n",
      "Optimal objective  2.460000000e+03\n"
     ]
    }
   ],
   "source": [
    "prob.optimize()"
   ]
  },
  {
   "cell_type": "code",
   "execution_count": 9,
   "id": "7bf01815",
   "metadata": {},
   "outputs": [
    {
     "data": {
      "text/plain": [
       "2460.0"
      ]
     },
     "execution_count": 9,
     "metadata": {},
     "output_type": "execute_result"
    }
   ],
   "source": [
    "prob.objval  # objective function value"
   ]
  },
  {
   "cell_type": "code",
   "execution_count": 10,
   "id": "b513b5b1",
   "metadata": {},
   "outputs": [
    {
     "name": "stdout",
     "output_type": "stream",
     "text": [
      "The optimal daily earning is: $2460\n"
     ]
    }
   ],
   "source": [
    "print(\"The optimal daily earning is: ${}\". format(round(prob.objval)))"
   ]
  },
  {
   "cell_type": "code",
   "execution_count": 11,
   "id": "25a964d1",
   "metadata": {},
   "outputs": [
    {
     "name": "stdout",
     "output_type": "stream",
     "text": [
      "Number of wrenches = 12000\n",
      "Number of pliers = 9000\n"
     ]
    }
   ],
   "source": [
    "for v in prob.getVars():\n",
    "    print(v.varName, \"=\", round(v.x))  # X: a way that gurobi saves the vale; v: can change to any other variable"
   ]
  },
  {
   "cell_type": "code",
   "execution_count": 12,
   "id": "110ff4d3",
   "metadata": {},
   "outputs": [
    {
     "data": {
      "text/plain": [
       "'\\nDecision variables: \\n\\nF: Full size\\nC: Compact  \\n\\nMaximize 120F + 130C\\n\\n2F + 1C <= 500\\n2F + 3C <= 800\\nF<=220\\nC<=180\\n\\n'"
      ]
     },
     "execution_count": 12,
     "metadata": {},
     "output_type": "execute_result"
    }
   ],
   "source": [
    "'''\n",
    "Decision variables: \n",
    "\n",
    "F: Full size\n",
    "C: Compact  \n",
    "\n",
    "Maximize 120F + 130C\n",
    "\n",
    "2F + 1C <= 500\n",
    "2F + 3C <= 800\n",
    "F<=220\n",
    "C<=180\n",
    "\n",
    "'''"
   ]
  },
  {
   "cell_type": "code",
   "execution_count": 13,
   "id": "b42b3e5d",
   "metadata": {},
   "outputs": [],
   "source": [
    "prob = gb.Model(\"Production Planning Model\")"
   ]
  },
  {
   "cell_type": "code",
   "execution_count": 14,
   "id": "dc2dc12d",
   "metadata": {},
   "outputs": [],
   "source": [
    "F = prob.addVar(name = \"Number of Full size\", vtype=GRB.INTEGER, lb=0, ub=220)\n",
    "C = prob.addVar(name = \"Number of Compact\", vtype=GRB.INTEGER, lb=0, ub=180)"
   ]
  },
  {
   "cell_type": "code",
   "execution_count": 15,
   "id": "0d6edc71",
   "metadata": {},
   "outputs": [],
   "source": [
    "prob.setObjective(120*F + 130*C, GRB.MAXIMIZE)"
   ]
  },
  {
   "cell_type": "code",
   "execution_count": 16,
   "id": "d47ea949",
   "metadata": {},
   "outputs": [
    {
     "data": {
      "text/plain": [
       "<gurobi.Constr *Awaiting Model Update*>"
      ]
     },
     "execution_count": 16,
     "metadata": {},
     "output_type": "execute_result"
    }
   ],
   "source": [
    "prob.addConstr(2*F+1*C <= 500, name = \"Ava of General Assembly\")"
   ]
  },
  {
   "cell_type": "code",
   "execution_count": 17,
   "id": "eb014dcc",
   "metadata": {},
   "outputs": [
    {
     "data": {
      "text/plain": [
       "<gurobi.Constr *Awaiting Model Update*>"
      ]
     },
     "execution_count": 17,
     "metadata": {},
     "output_type": "execute_result"
    }
   ],
   "source": [
    "prob.addConstr(2*F+3*C <= 800, name = \"Ava of Electronic Assembly\")"
   ]
  },
  {
   "cell_type": "code",
   "execution_count": 18,
   "id": "cd540e99",
   "metadata": {},
   "outputs": [
    {
     "name": "stdout",
     "output_type": "stream",
     "text": [
      "Gurobi Optimizer version 10.0.2 build v10.0.2rc0 (mac64[x86])\n",
      "\n",
      "CPU model: Intel(R) Core(TM) i9-9880H CPU @ 2.30GHz\n",
      "Thread count: 8 physical cores, 16 logical processors, using up to 16 threads\n",
      "\n",
      "Optimize a model with 2 rows, 2 columns and 4 nonzeros\n",
      "Model fingerprint: 0x4fb8afff\n",
      "Variable types: 0 continuous, 2 integer (0 binary)\n",
      "Coefficient statistics:\n",
      "  Matrix range     [1e+00, 3e+00]\n",
      "  Objective range  [1e+02, 1e+02]\n",
      "  Bounds range     [2e+02, 2e+02]\n",
      "  RHS range        [5e+02, 8e+02]\n",
      "Found heuristic solution: objective 34200.000000\n",
      "Presolve time: 0.00s\n",
      "Presolved: 2 rows, 2 columns, 4 nonzeros\n",
      "Variable types: 0 continuous, 2 integer (0 binary)\n",
      "Found heuristic solution: objective 34210.000000\n",
      "\n",
      "Root relaxation: objective 4.050000e+04, 2 iterations, 0.00 seconds (0.00 work units)\n",
      "\n",
      "    Nodes    |    Current Node    |     Objective Bounds      |     Work\n",
      " Expl Unexpl |  Obj  Depth IntInf | Incumbent    BestBd   Gap | It/Node Time\n",
      "\n",
      "*    0     0               0    40500.000000 40500.0000  0.00%     -    0s\n",
      "\n",
      "Explored 1 nodes (2 simplex iterations) in 0.01 seconds (0.00 work units)\n",
      "Thread count was 16 (of 16 available processors)\n",
      "\n",
      "Solution count 3: 40500 34210 34200 \n",
      "\n",
      "Optimal solution found (tolerance 1.00e-04)\n",
      "Best objective 4.050000000000e+04, best bound 4.050000000000e+04, gap 0.0000%\n"
     ]
    }
   ],
   "source": [
    "prob.optimize()"
   ]
  },
  {
   "cell_type": "code",
   "execution_count": 19,
   "id": "dc5dd1da",
   "metadata": {},
   "outputs": [
    {
     "data": {
      "text/plain": [
       "40500.0"
      ]
     },
     "execution_count": 19,
     "metadata": {},
     "output_type": "execute_result"
    }
   ],
   "source": [
    "prob.objval"
   ]
  },
  {
   "cell_type": "code",
   "execution_count": 20,
   "id": "2cebcbea",
   "metadata": {},
   "outputs": [
    {
     "name": "stdout",
     "output_type": "stream",
     "text": [
      "Number of Full size = 175\n",
      "Number of Compact = 150\n"
     ]
    }
   ],
   "source": [
    "for v in prob.getVars():\n",
    "    print(v.varName, \"=\", round(v.x))"
   ]
  }
 ],
 "metadata": {
  "kernelspec": {
   "display_name": "mcgill",
   "language": "python",
   "name": "mcgill"
  },
  "language_info": {
   "codemirror_mode": {
    "name": "ipython",
    "version": 3
   },
   "file_extension": ".py",
   "mimetype": "text/x-python",
   "name": "python",
   "nbconvert_exporter": "python",
   "pygments_lexer": "ipython3",
   "version": "3.11.4"
  }
 },
 "nbformat": 4,
 "nbformat_minor": 5
}
