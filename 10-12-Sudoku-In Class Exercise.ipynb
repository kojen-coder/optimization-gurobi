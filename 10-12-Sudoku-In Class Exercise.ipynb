{
 "cells": [
  {
   "cell_type": "markdown",
   "id": "b463af59",
   "metadata": {},
   "source": [
    "# Sudoku New York Times\n",
    "\n",
    "Oct 12 - Hard"
   ]
  },
  {
   "cell_type": "markdown",
   "id": "6901a44b",
   "metadata": {},
   "source": [
    "<img src=\"sudoku.png\" alt=\"alt text\" width=\"300\" align=\"left\"/>"
   ]
  },
  {
   "cell_type": "code",
   "execution_count": 1,
   "id": "3a8b4036",
   "metadata": {},
   "outputs": [],
   "source": [
    "import gurobipy as gb\n",
    "from gurobipy import *\n",
    "from gurobipy import Model, GRB, quicksum as sum"
   ]
  },
  {
   "cell_type": "code",
   "execution_count": 2,
   "id": "d7c9a690",
   "metadata": {},
   "outputs": [],
   "source": [
    "# A list of strings from \"1\" to \"9\" is created\n",
    "Sequence = [\"1\", \"2\", \"3\", \"4\", \"5\", \"6\", \"7\", \"8\", \"9\"]\n",
    "\n",
    "s = len(Sequence)\n",
    "Rows = Sequence\n",
    "Cols = Sequence\n",
    "Vals = Sequence"
   ]
  },
  {
   "cell_type": "code",
   "execution_count": 3,
   "id": "097cd072",
   "metadata": {},
   "outputs": [],
   "source": [
    "# The boxes list is created, with the row and column index of each square in each box\n",
    "Boxes =[]\n",
    "for i in range(3):\n",
    "    for j in range(3):\n",
    "        Boxes += [[(Rows[3*i+k], Cols[3*j+l]) for k in range(3) for l in range(3)]]"
   ]
  },
  {
   "cell_type": "code",
   "execution_count": 4,
   "id": "d622f818",
   "metadata": {},
   "outputs": [
    {
     "name": "stdout",
     "output_type": "stream",
     "text": [
      "Set parameter Username\n",
      "Academic license - for non-commercial use only - expires 2024-08-30\n"
     ]
    }
   ],
   "source": [
    "Sudoku = gb.Model(\"Sudoku\")"
   ]
  },
  {
   "cell_type": "code",
   "execution_count": 5,
   "id": "ec006ebd",
   "metadata": {},
   "outputs": [],
   "source": [
    "X = Sudoku.addVars(Rows, Cols, Vals, lb = 0, ub = 1, vtype = GRB.INTEGER, name = \"X\")"
   ]
  },
  {
   "cell_type": "code",
   "execution_count": 6,
   "id": "2f6d011f",
   "metadata": {},
   "outputs": [],
   "source": [
    "Sudoku.setObjective(0) # default is to minimize. There is nothing to minimize or maximize"
   ]
  },
  {
   "cell_type": "code",
   "execution_count": 7,
   "id": "9ca30742",
   "metadata": {},
   "outputs": [],
   "source": [
    "# Check each row to make sure the sum is 1\n",
    "# Every number is in a row once and only once\n",
    "for i in Rows:\n",
    "    for k in Vals:\n",
    "        Sudoku.addConstr(sum(X[i,j,k] for j in Cols) == 1)"
   ]
  },
  {
   "cell_type": "code",
   "execution_count": 9,
   "id": "327bc96e",
   "metadata": {},
   "outputs": [],
   "source": [
    "# Each cell can only have one value (k from 1 to 9)\n",
    "for i in Rows:\n",
    "    for j in Cols:\n",
    "        Sudoku.addConstr(sum(X[i,j,k] for k in Vals) == 1)"
   ]
  },
  {
   "cell_type": "code",
   "execution_count": 10,
   "id": "383599b5",
   "metadata": {},
   "outputs": [],
   "source": [
    "# Every number is in a column once and only once\n",
    "for j in Cols:\n",
    "    for k in Vals:\n",
    "        Sudoku.addConstr(sum(X[i,j,k] for i in Rows) == 1)"
   ]
  },
  {
   "cell_type": "code",
   "execution_count": 11,
   "id": "5b766ad1",
   "metadata": {},
   "outputs": [],
   "source": [
    "# The box constraint\n",
    "for k in Vals:\n",
    "    for b in Boxes:\n",
    "        Sudoku.addConstr(sum(X[i,j,k] for (i,j) in b) == 1)"
   ]
  },
  {
   "cell_type": "code",
   "execution_count": 12,
   "id": "2ae3d85d",
   "metadata": {},
   "outputs": [
    {
     "data": {
      "text/plain": [
       "<gurobi.Constr *Awaiting Model Update*>"
      ]
     },
     "execution_count": 12,
     "metadata": {},
     "output_type": "execute_result"
    }
   ],
   "source": [
    "# Choose the pair of i, j and the sum of the value should be 1. To avoid cases like X(1, 1, 7) = 1, and X(1, 1, 5) also = 1. That is incorrect.\n",
    "# Adding constraints for given numbers\n",
    "Sudoku.addConstr(X[\"1\",\"3\",\"3\"] == 1)\n",
    "Sudoku.addConstr(X[\"1\",\"8\",\"9\"] == 1)\n",
    "Sudoku.addConstr(X[\"2\",\"6\",\"9\"] == 1)\n",
    "Sudoku.addConstr(X[\"2\",\"7\",\"5\"] == 1)\n",
    "Sudoku.addConstr(X[\"3\",\"4\",\"8\"] == 1)\n",
    "Sudoku.addConstr(X[\"3\",\"5\",\"4\"] == 1)\n",
    "Sudoku.addConstr(X[\"3\",\"6\",\"3\"] == 1)\n",
    "Sudoku.addConstr(X[\"4\",\"7\",\"7\"] == 1)\n",
    "Sudoku.addConstr(X[\"4\",\"9\",\"2\"] == 1)\n",
    "Sudoku.addConstr(X[\"5\",\"6\",\"6\"] == 1)\n",
    "Sudoku.addConstr(X[\"6\",\"1\",\"9\"] == 1)\n",
    "Sudoku.addConstr(X[\"6\",\"3\",\"2\"] == 1)\n",
    "Sudoku.addConstr(X[\"6\",\"5\",\"3\"] == 1)\n",
    "Sudoku.addConstr(X[\"7\",\"6\",\"8\"] == 1)\n",
    "Sudoku.addConstr(X[\"8\",\"1\",\"6\"] == 1)\n",
    "Sudoku.addConstr(X[\"8\",\"3\",\"5\"] == 1)\n",
    "Sudoku.addConstr(X[\"8\",\"7\",\"9\"] == 1)\n",
    "Sudoku.addConstr(X[\"8\",\"9\",\"7\"] == 1)\n",
    "Sudoku.addConstr(X[\"9\",\"1\",\"1\"] == 1)\n",
    "Sudoku.addConstr(X[\"9\",\"3\",\"7\"] == 1)\n",
    "Sudoku.addConstr(X[\"9\",\"7\",\"2\"] == 1)\n",
    "Sudoku.addConstr(X[\"9\",\"8\",\"5\"] == 1)\n"
   ]
  },
  {
   "cell_type": "code",
   "execution_count": 13,
   "id": "c06b3a32",
   "metadata": {},
   "outputs": [
    {
     "name": "stdout",
     "output_type": "stream",
     "text": [
      "Gurobi Optimizer version 10.0.2 build v10.0.2rc0 (mac64[x86])\n",
      "\n",
      "CPU model: Intel(R) Core(TM) i9-9880H CPU @ 2.30GHz\n",
      "Thread count: 8 physical cores, 16 logical processors, using up to 16 threads\n",
      "\n",
      "Optimize a model with 346 rows, 729 columns and 2938 nonzeros\n",
      "Model fingerprint: 0x182f34eb\n",
      "Variable types: 0 continuous, 729 integer (0 binary)\n",
      "Coefficient statistics:\n",
      "  Matrix range     [1e+00, 1e+00]\n",
      "  Objective range  [0e+00, 0e+00]\n",
      "  Bounds range     [1e+00, 1e+00]\n",
      "  RHS range        [1e+00, 1e+00]\n",
      "Presolve removed 346 rows and 729 columns\n",
      "Presolve time: 0.00s\n",
      "Presolve: All rows and columns removed\n",
      "\n",
      "Explored 0 nodes (0 simplex iterations) in 0.01 seconds (0.00 work units)\n",
      "Thread count was 1 (of 16 available processors)\n",
      "\n",
      "Solution count 1: 0 \n",
      "\n",
      "Optimal solution found (tolerance 1.00e-04)\n",
      "Best objective 0.000000000000e+00, best bound 0.000000000000e+00, gap 0.0000%\n"
     ]
    }
   ],
   "source": [
    "Sudoku.optimize()"
   ]
  },
  {
   "cell_type": "code",
   "execution_count": 15,
   "id": "257a2549",
   "metadata": {},
   "outputs": [
    {
     "name": "stdout",
     "output_type": "stream",
     "text": [
      "7 6 3 1 2 5 8 9 4 \n",
      "8 4 1 7 6 9 5 2 3 \n",
      "5 2 9 8 4 3 1 7 6 \n",
      "4 5 6 9 8 1 7 3 2 \n",
      "3 7 8 2 5 6 4 1 9 \n",
      "9 1 2 4 3 7 6 8 5 \n",
      "2 9 4 5 7 8 3 6 1 \n",
      "6 8 5 3 1 2 9 4 7 \n",
      "1 3 7 6 9 4 2 5 8 \n"
     ]
    }
   ],
   "source": [
    "for i in Rows:\n",
    "    for j in Cols:\n",
    "        for k in Vals:\n",
    "            if X[i,j,k].x == 1:\n",
    "                print(k, end=' ')\n",
    "    print()"
   ]
  }
 ],
 "metadata": {
  "kernelspec": {
   "display_name": "opt",
   "language": "python",
   "name": "opt"
  },
  "language_info": {
   "codemirror_mode": {
    "name": "ipython",
    "version": 3
   },
   "file_extension": ".py",
   "mimetype": "text/x-python",
   "name": "python",
   "nbconvert_exporter": "python",
   "pygments_lexer": "ipython3",
   "version": "3.11.4"
  }
 },
 "nbformat": 4,
 "nbformat_minor": 5
}
