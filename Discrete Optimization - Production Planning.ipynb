{
 "cells": [
  {
   "cell_type": "markdown",
   "id": "c4ddc44c",
   "metadata": {},
   "source": [
    "# Production Planning\n",
    "Slide 18"
   ]
  },
  {
   "cell_type": "code",
   "execution_count": 1,
   "id": "33355b55",
   "metadata": {},
   "outputs": [],
   "source": [
    "import pandas as pd\n",
    "import numpy as np\n",
    "\n",
    "import gurobipy as gb\n",
    "from gurobipy import *\n",
    "from gurobipy import Model, GRB, quicksum as sum"
   ]
  },
  {
   "cell_type": "code",
   "execution_count": 2,
   "id": "2c8e6b3a",
   "metadata": {},
   "outputs": [],
   "source": [
    "product = ['A1', 'A2', 'A3', 'A4']\n",
    "profit = [62, 84, 103, 125]\n",
    "upper = [8, 17, 11, 15]\n",
    "p = len(product)"
   ]
  },
  {
   "cell_type": "code",
   "execution_count": 3,
   "id": "0036f4f7",
   "metadata": {},
   "outputs": [
    {
     "name": "stdout",
     "output_type": "stream",
     "text": [
      "Set parameter Username\n",
      "Academic license - for non-commercial use only - expires 2024-08-30\n"
     ]
    }
   ],
   "source": [
    "prob = gb.Model(\"Production Planning\")"
   ]
  },
  {
   "cell_type": "code",
   "execution_count": 4,
   "id": "19a73d79",
   "metadata": {},
   "outputs": [],
   "source": [
    "X = prob.addVars(p, lb = 0,ub=upper, vtype = GRB.INTEGER, name = product)"
   ]
  },
  {
   "cell_type": "code",
   "execution_count": 5,
   "id": "39defe62",
   "metadata": {},
   "outputs": [],
   "source": [
    "prob.setObjective(sum(profit[i]*X[i] for i in range(p)), GRB.MAXIMIZE)"
   ]
  },
  {
   "cell_type": "code",
   "execution_count": 6,
   "id": "cc05cd53",
   "metadata": {},
   "outputs": [
    {
     "data": {
      "text/plain": [
       "<gurobi.Constr *Awaiting Model Update*>"
      ]
     },
     "execution_count": 6,
     "metadata": {},
     "output_type": "execute_result"
    }
   ],
   "source": [
    "const1 = [4, 7, 9, 11]\n",
    "prob.addConstr(sum(const1[i]*X[i] for i in range(p)) <= 270, name =\"Constraint 1\") "
   ]
  },
  {
   "cell_type": "code",
   "execution_count": 7,
   "id": "d9786370",
   "metadata": {},
   "outputs": [
    {
     "data": {
      "text/plain": [
       "<gurobi.Constr *Awaiting Model Update*>"
      ]
     },
     "execution_count": 7,
     "metadata": {},
     "output_type": "execute_result"
    }
   ],
   "source": [
    "const2 = [1, 1, 2, 2]\n",
    "prob.addConstr(sum(const2[i]*X[i] for i in range(p)) <= 60, name =\"Constraint 2\") "
   ]
  },
  {
   "cell_type": "code",
   "execution_count": 8,
   "id": "43fc905b",
   "metadata": {},
   "outputs": [
    {
     "name": "stdout",
     "output_type": "stream",
     "text": [
      "Gurobi Optimizer version 10.0.2 build v10.0.2rc0 (mac64[x86])\n",
      "\n",
      "CPU model: Intel(R) Core(TM) i9-9880H CPU @ 2.30GHz\n",
      "Thread count: 8 physical cores, 16 logical processors, using up to 16 threads\n",
      "\n",
      "Optimize a model with 2 rows, 4 columns and 8 nonzeros\n",
      "Model fingerprint: 0xb69d14ba\n",
      "Variable types: 0 continuous, 4 integer (0 binary)\n",
      "Coefficient statistics:\n",
      "  Matrix range     [1e+00, 1e+01]\n",
      "  Objective range  [6e+01, 1e+02]\n",
      "  Bounds range     [8e+00, 2e+01]\n",
      "  RHS range        [6e+01, 3e+02]\n",
      "Found heuristic solution: objective 3182.0000000\n",
      "Presolve removed 2 rows and 4 columns\n",
      "Presolve time: 0.00s\n",
      "Presolve: All rows and columns removed\n",
      "\n",
      "Explored 0 nodes (0 simplex iterations) in 0.01 seconds (0.00 work units)\n",
      "Thread count was 1 (of 16 available processors)\n",
      "\n",
      "Solution count 2: 3277 3182 \n",
      "\n",
      "Optimal solution found (tolerance 1.00e-04)\n",
      "Best objective 3.277000000000e+03, best bound 3.277000000000e+03, gap 0.0000%\n"
     ]
    }
   ],
   "source": [
    "prob.optimize()"
   ]
  },
  {
   "cell_type": "code",
   "execution_count": 9,
   "id": "9169b46e",
   "metadata": {},
   "outputs": [
    {
     "name": "stdout",
     "output_type": "stream",
     "text": [
      "A1 = 8\n",
      "A2 = 17\n",
      "A3 = 1\n",
      "A4 = 10\n",
      "Optimal Objective Value: 3277.0\n"
     ]
    }
   ],
   "source": [
    "for v in prob.getVars():    \n",
    "    print(v.varName, \"=\", round(v.X))\n",
    "print(f\"Optimal Objective Value: {prob.ObjVal}\") #2460"
   ]
  },
  {
   "cell_type": "code",
   "execution_count": null,
   "id": "fbde2a24",
   "metadata": {},
   "outputs": [],
   "source": []
  },
  {
   "cell_type": "code",
   "execution_count": null,
   "id": "6900414e",
   "metadata": {},
   "outputs": [],
   "source": []
  }
 ],
 "metadata": {
  "kernelspec": {
   "display_name": "opt",
   "language": "python",
   "name": "opt"
  },
  "language_info": {
   "codemirror_mode": {
    "name": "ipython",
    "version": 3
   },
   "file_extension": ".py",
   "mimetype": "text/x-python",
   "name": "python",
   "nbconvert_exporter": "python",
   "pygments_lexer": "ipython3",
   "version": "3.11.4"
  }
 },
 "nbformat": 4,
 "nbformat_minor": 5
}
