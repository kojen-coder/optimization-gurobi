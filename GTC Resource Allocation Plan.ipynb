{
 "cells": [
  {
   "cell_type": "markdown",
   "id": "325bc319",
   "metadata": {},
   "source": [
    "## Shadow Prices for GTC Resource Allocation Problem\n",
    "Linear Programming Slide 48\n",
    "\n",
    "- minimize 27, 000y1 + 21, 000y2 + 9, 000y3 + 15, 000y4 + 16, 000y5\n",
    "- 1.5y1 + y2 + 0.3y3 + y4 >=  0.13\n",
    "- y1 + y2 + 0.5y3 + y5 >=  0.10\n",
    "- y1, y2, y3, y4, y5 >= 0\n",
    "\n",
    "In class notes: \n",
    "- Always talk about the \"value\" not the \"cost\". \n",
    "- The problem is about answering this question \"Do I have the incentive to produce the products?\"\n",
    "- RHS: The margin of the contribution. \n",
    "- In a perfect competition, that no one makes money. Set a price in a way that you do not have the incentive to produce.\n",
    "- Reduced cost = 0; RC = 0.13 - (the RHS: the margin of the contribution of the wrench)"
   ]
  },
  {
   "cell_type": "code",
   "execution_count": 54,
   "id": "e59e3843",
   "metadata": {},
   "outputs": [],
   "source": [
    "import gurobipy as gb\n",
    "from gurobipy import *\n",
    "import numpy as np\n",
    "\n",
    "product = [\"y1\", \"y2\", \"y3\", \"y4\", \"y5\"]\n",
    "value = [27000, 21000, 9000, 15000, 16000]\n",
    "p = len(product)"
   ]
  },
  {
   "cell_type": "code",
   "execution_count": 55,
   "id": "cadfc81c",
   "metadata": {},
   "outputs": [],
   "source": [
    "prob = gb.Model(\"GTC Resource Plan\")"
   ]
  },
  {
   "cell_type": "code",
   "execution_count": 56,
   "id": "57b3f356",
   "metadata": {},
   "outputs": [],
   "source": [
    "X = prob.addVars(p, lb = 0, vtype = GRB.CONTINUOUS, name = product)"
   ]
  },
  {
   "cell_type": "code",
   "execution_count": 57,
   "id": "37f37f93",
   "metadata": {},
   "outputs": [],
   "source": [
    "prob.setObjective(sum(value[i]*X[i] for i in range(p)), GRB.MINIMIZE)"
   ]
  },
  {
   "cell_type": "code",
   "execution_count": 58,
   "id": "ee389211",
   "metadata": {},
   "outputs": [
    {
     "data": {
      "text/plain": [
       "<gurobi.Constr *Awaiting Model Update*>"
      ]
     },
     "execution_count": 58,
     "metadata": {},
     "output_type": "execute_result"
    }
   ],
   "source": [
    "list1 = [1.5, 1, 0.3, 1, 0]\n",
    "prob.addConstr(sum(list1[i]*X[i] for i in range(p)) >= 0.13, name =\"Constraint 1\") "
   ]
  },
  {
   "cell_type": "code",
   "execution_count": 59,
   "id": "6d905c99",
   "metadata": {},
   "outputs": [
    {
     "data": {
      "text/plain": [
       "<gurobi.Constr *Awaiting Model Update*>"
      ]
     },
     "execution_count": 59,
     "metadata": {},
     "output_type": "execute_result"
    }
   ],
   "source": [
    "list2 = [1, 1, 0.5, 0, 1]\n",
    "prob.addConstr(sum(list2[i]*X[i] for i in range(p)) >= 0.10, name =\"Constraint 2\") "
   ]
  },
  {
   "cell_type": "code",
   "execution_count": 60,
   "id": "149f8fa6",
   "metadata": {},
   "outputs": [
    {
     "name": "stdout",
     "output_type": "stream",
     "text": [
      "Gurobi Optimizer version 10.0.2 build v10.0.2rc0 (mac64[x86])\n",
      "\n",
      "CPU model: Intel(R) Core(TM) i9-9880H CPU @ 2.30GHz\n",
      "Thread count: 8 physical cores, 16 logical processors, using up to 16 threads\n",
      "\n",
      "Optimize a model with 2 rows, 5 columns and 8 nonzeros\n",
      "Model fingerprint: 0xec03fd91\n",
      "Coefficient statistics:\n",
      "  Matrix range     [3e-01, 2e+00]\n",
      "  Objective range  [9e+03, 3e+04]\n",
      "  Bounds range     [0e+00, 0e+00]\n",
      "  RHS range        [1e-01, 1e-01]\n",
      "Presolve time: 0.00s\n",
      "Presolved: 2 rows, 5 columns, 8 nonzeros\n",
      "\n",
      "Iteration    Objective       Primal Inf.    Dual Inf.      Time\n",
      "       0    0.0000000e+00   2.300000e-01   0.000000e+00      0s\n",
      "       3    2.4600000e+03   0.000000e+00   0.000000e+00      0s\n",
      "\n",
      "Solved in 3 iterations and 0.01 seconds (0.00 work units)\n",
      "Optimal objective  2.460000000e+03\n"
     ]
    }
   ],
   "source": [
    "prob.optimize()"
   ]
  },
  {
   "cell_type": "code",
   "execution_count": 61,
   "id": "c713ea8a",
   "metadata": {},
   "outputs": [
    {
     "name": "stdout",
     "output_type": "stream",
     "text": [
      "y1 = 0\n",
      "y2 = 0\n",
      "y3 = 0\n",
      "y4 = 0\n",
      "y5 = 0\n",
      "Optimal Objective Value: 2460.0\n"
     ]
    }
   ],
   "source": [
    "for v in prob.getVars():    \n",
    "    print(v.varName, \"=\", round(v.X))\n",
    "print(f\"Optimal Objective Value: {prob.ObjVal}\") #2460"
   ]
  },
  {
   "cell_type": "code",
   "execution_count": 62,
   "id": "81e40fc7",
   "metadata": {
    "scrolled": false
   },
   "outputs": [
    {
     "name": "stdout",
     "output_type": "stream",
     "text": [
      "\n",
      "    Variable            X          Obj     SAObjLow      SAObjUp \n",
      "----------------------------------------------------------------\n",
      "          y1         0.06        27000        24750        28500 \n",
      "          y2         0.04        21000        19500        22000 \n",
      "          y3            0         9000         8100          inf \n",
      "          y4            0        15000        12000          inf \n",
      "          y5            0        16000         9000          inf \n",
      "\n",
      "    Variable            X           RC           LB      SALBLow       SALBUp           UB      SAUBLow       SAUBUp \n",
      "--------------------------------------------------------------------------------------------------------------------\n",
      "          y1         0.06            0            0         -inf         0.06          inf         0.06          inf \n",
      "          y2         0.04            0            0         -inf         0.04          inf         0.04          inf \n",
      "          y3            0          900            0        -0.15    0.0444444          inf            0          inf \n",
      "          y4            0         3000            0        -0.02         0.03          inf            0          inf \n",
      "          y5            0         7000            0        -0.03    0.0133333          inf            0          inf \n",
      "\n",
      "  Constraint        Sense        Slack           Pi          RHS     SARHSLow      SARHSUp \n",
      "------------------------------------------------------------------------------------------\n",
      "Constraint 1            >            0        12000         0.13          0.1         0.15 \n",
      "Constraint 2            >            0         9000          0.1    0.0866667         0.13 \n"
     ]
    }
   ],
   "source": [
    "# Sensitivity Report\n",
    "prob.printAttr(['X', 'Obj', 'SAObjLow', 'SAObjUp'])\n",
    "prob.printAttr(['X', 'RC', 'LB', 'SALBLow', 'SALBUp', 'UB', 'SAUBLow', 'SAUBUp'])\n",
    "prob.printAttr(['Sense', 'Slack', 'Pi', 'RHS', 'SARHSLow', 'SARHSUp'])"
   ]
  },
  {
   "cell_type": "markdown",
   "id": "5d67d910",
   "metadata": {},
   "source": [
    "## GTC Resource Plan"
   ]
  },
  {
   "cell_type": "code",
   "execution_count": 46,
   "id": "c6fcd9d3",
   "metadata": {},
   "outputs": [],
   "source": [
    "prob = gb.Model(\"GTC Resource Plan\")"
   ]
  },
  {
   "cell_type": "code",
   "execution_count": 47,
   "id": "ec40e4b0",
   "metadata": {},
   "outputs": [],
   "source": [
    "product = ['X1', 'X2', 'X3']\n",
    "p = len(product)\n",
    "X = prob.addVars(p, lb = 0, vtype = GRB.CONTINUOUS, name = product)"
   ]
  },
  {
   "cell_type": "code",
   "execution_count": 48,
   "id": "f5c843a5",
   "metadata": {},
   "outputs": [],
   "source": [
    "objective = [6, 14, 13]\n",
    "prob.setObjective(sum(objective[i]*X[i] for i in range(p)), GRB.MAXIMIZE)"
   ]
  },
  {
   "cell_type": "code",
   "execution_count": 49,
   "id": "b71d4c5d",
   "metadata": {},
   "outputs": [
    {
     "data": {
      "text/plain": [
       "<gurobi.Constr *Awaiting Model Update*>"
      ]
     },
     "execution_count": 49,
     "metadata": {},
     "output_type": "execute_result"
    }
   ],
   "source": [
    "list1 = [0.5, 2, 1]\n",
    "prob.addConstr(sum(list1[i]*X[i] for i in range(p)) <=24, name =\"Constraint 1\") "
   ]
  },
  {
   "cell_type": "code",
   "execution_count": 50,
   "id": "7e6cf247",
   "metadata": {},
   "outputs": [
    {
     "data": {
      "text/plain": [
       "<gurobi.Constr *Awaiting Model Update*>"
      ]
     },
     "execution_count": 50,
     "metadata": {},
     "output_type": "execute_result"
    }
   ],
   "source": [
    "list2 = [1, 2, 4]\n",
    "prob.addConstr(sum(list2[i]*X[i] for i in range(p)) <=60, name =\"Constraint 2\") "
   ]
  },
  {
   "cell_type": "code",
   "execution_count": 51,
   "id": "6ff98be6",
   "metadata": {},
   "outputs": [
    {
     "name": "stdout",
     "output_type": "stream",
     "text": [
      "Gurobi Optimizer version 10.0.2 build v10.0.2rc0 (mac64[x86])\n",
      "\n",
      "CPU model: Intel(R) Core(TM) i9-9880H CPU @ 2.30GHz\n",
      "Thread count: 8 physical cores, 16 logical processors, using up to 16 threads\n",
      "\n",
      "Optimize a model with 2 rows, 3 columns and 6 nonzeros\n",
      "Model fingerprint: 0x800786df\n",
      "Coefficient statistics:\n",
      "  Matrix range     [5e-01, 4e+00]\n",
      "  Objective range  [6e+00, 1e+01]\n",
      "  Bounds range     [0e+00, 0e+00]\n",
      "  RHS range        [2e+01, 6e+01]\n",
      "Presolve time: 0.00s\n",
      "Presolved: 2 rows, 3 columns, 6 nonzeros\n",
      "\n",
      "Iteration    Objective       Primal Inf.    Dual Inf.      Time\n",
      "       0    3.2500000e+31   4.750000e+30   3.250000e+01      0s\n",
      "       3    2.9400000e+02   0.000000e+00   0.000000e+00      0s\n",
      "\n",
      "Solved in 3 iterations and 0.01 seconds (0.00 work units)\n",
      "Optimal objective  2.940000000e+02\n"
     ]
    }
   ],
   "source": [
    "prob.optimize()"
   ]
  },
  {
   "cell_type": "code",
   "execution_count": 52,
   "id": "aaededd6",
   "metadata": {},
   "outputs": [
    {
     "name": "stdout",
     "output_type": "stream",
     "text": [
      "X1 = 36\n",
      "X2 = 0\n",
      "X3 = 6\n",
      "Optimal Objective Value: 294.0\n"
     ]
    }
   ],
   "source": [
    "for v in prob.getVars():    \n",
    "    print(v.varName, \"=\", round(v.X))\n",
    "print(f\"Optimal Objective Value: {prob.ObjVal}\") "
   ]
  },
  {
   "cell_type": "code",
   "execution_count": 53,
   "id": "b87d3e39",
   "metadata": {},
   "outputs": [
    {
     "name": "stdout",
     "output_type": "stream",
     "text": [
      "\n",
      "    Variable            X          Obj     SAObjLow      SAObjUp \n",
      "----------------------------------------------------------------\n",
      "          X1           36            6          4.5          6.5 \n",
      "          X2            0           14         -inf           23 \n",
      "          X3            6           13           12           22 \n",
      "\n",
      "    Variable            X           RC           LB      SALBLow       SALBUp           UB      SAUBLow       SAUBUp \n",
      "--------------------------------------------------------------------------------------------------------------------\n",
      "          X1           36            0            0         -inf           36          inf           36          inf \n",
      "          X2            0           -9            0           -6            6          inf            0          inf \n",
      "          X3            6            0            0         -inf            6          inf            6          inf \n",
      "\n",
      "  Constraint        Sense        Slack           Pi          RHS     SARHSLow      SARHSUp \n",
      "------------------------------------------------------------------------------------------\n",
      "Constraint 1            <            0           11           24           15           30 \n",
      "Constraint 2            <            0          0.5           60           48           96 \n"
     ]
    }
   ],
   "source": [
    "# Sensitivity Report\n",
    "prob.printAttr(['X', 'Obj', 'SAObjLow', 'SAObjUp'])\n",
    "prob.printAttr(['X', 'RC', 'LB', 'SALBLow', 'SALBUp', 'UB', 'SAUBLow', 'SAUBUp'])\n",
    "prob.printAttr(['Sense', 'Slack', 'Pi', 'RHS', 'SARHSLow', 'SARHSUp'])"
   ]
  },
  {
   "cell_type": "markdown",
   "id": "3deef20f",
   "metadata": {},
   "source": [
    "Notes: \n",
    "- Do I have the incentive to produce the products?\n",
    "- RC: 0, -9, 0. 9+14 = 23 (as 14 is the X2 coefficient -> change the coefficient to 23)\n",
    "- maximize problem, for the RC: usually 0 or negative. Otherwise, you can always optmize the problem. \n",
    "- But for the minimize problem, it will be all different stories.\n",
    "- minimize f -> maxmize -f"
   ]
  },
  {
   "cell_type": "code",
   "execution_count": null,
   "id": "e96956f7",
   "metadata": {},
   "outputs": [],
   "source": []
  },
  {
   "cell_type": "code",
   "execution_count": null,
   "id": "744adb04",
   "metadata": {},
   "outputs": [],
   "source": []
  }
 ],
 "metadata": {
  "kernelspec": {
   "display_name": "opt",
   "language": "python",
   "name": "opt"
  },
  "language_info": {
   "codemirror_mode": {
    "name": "ipython",
    "version": 3
   },
   "file_extension": ".py",
   "mimetype": "text/x-python",
   "name": "python",
   "nbconvert_exporter": "python",
   "pygments_lexer": "ipython3",
   "version": "3.11.4"
  }
 },
 "nbformat": 4,
 "nbformat_minor": 5
}
