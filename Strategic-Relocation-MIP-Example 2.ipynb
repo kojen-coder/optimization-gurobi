{
 "cells": [
  {
   "cell_type": "markdown",
   "id": "df57ae12",
   "metadata": {},
   "source": [
    "# Strategic Relocation\n",
    "Discrete Optimization Slide 45"
   ]
  },
  {
   "cell_type": "code",
   "execution_count": 1,
   "id": "7f9423b0",
   "metadata": {},
   "outputs": [],
   "source": [
    "operating_cost = [20, 15, 22, 21, 16]\n",
    "\n",
    "ship_time =          [[0.5,2.5,1.5,2.0,3.0],\n",
    "                      [2.0,3.0,1.0,0.5,2.0],\n",
    "                      [3.0,2.0,2.0,1.5,1.0],\n",
    "                      [3.0,1.0,2.0,2.0,0.5],\n",
    "                      [1.5,2.0,0.5,1.0,2.0]]\n",
    "\n",
    "customer_portion = [0.25, 0.3, 0.15, 0.1, 0.2]\n",
    "demand_country=[\"England\", \"Germany\", \"Switzerland\", \"Italy\", \"France\"]\n",
    "service_center=[\"London\", \"Madrid\", \"Paris\", \"Hamburg\", \"Rome\"]"
   ]
  },
  {
   "cell_type": "code",
   "execution_count": 2,
   "id": "505f29ae",
   "metadata": {},
   "outputs": [],
   "source": [
    "import gurobipy as gb\n",
    "from gurobipy import *"
   ]
  },
  {
   "cell_type": "code",
   "execution_count": 3,
   "id": "f9a1de3b",
   "metadata": {},
   "outputs": [],
   "source": [
    "I = len(demand_country)\n",
    "J = len(service_center)"
   ]
  },
  {
   "cell_type": "code",
   "execution_count": 4,
   "id": "1ef5f5bf",
   "metadata": {},
   "outputs": [
    {
     "name": "stdout",
     "output_type": "stream",
     "text": [
      "Set parameter Username\n",
      "Academic license - for non-commercial use only - expires 2024-08-30\n"
     ]
    }
   ],
   "source": [
    "model = gb.Model(\"Strategic relatiocation-MIP Example\")"
   ]
  },
  {
   "cell_type": "code",
   "execution_count": 5,
   "id": "a9541351",
   "metadata": {},
   "outputs": [],
   "source": [
    "Y = model.addVars(J, vtype = GRB.BINARY, name=[\"Service center in city\" + j for j in service_center])"
   ]
  },
  {
   "cell_type": "code",
   "execution_count": 7,
   "id": "2cee39ab",
   "metadata": {},
   "outputs": [],
   "source": [
    "X = model.addVars(I, J, vtype = GRB.CONTINUOUS, lb = 0, ub = 1, name=[\"Fraction of demand in market \"+i+\" served from center \" +j for i in demand_country for j in service_center])"
   ]
  },
  {
   "cell_type": "code",
   "execution_count": 9,
   "id": "d3a97461",
   "metadata": {},
   "outputs": [],
   "source": [
    "model.setObjective(sum(Y[j]*operating_cost[j] for j in range(J)), GRB.MINIMIZE)"
   ]
  },
  {
   "cell_type": "code",
   "execution_count": 11,
   "id": "7f74fe7a",
   "metadata": {},
   "outputs": [
    {
     "data": {
      "text/plain": [
       "{0: <gurobi.Constr *Awaiting Model Update*>,\n",
       " 1: <gurobi.Constr *Awaiting Model Update*>,\n",
       " 2: <gurobi.Constr *Awaiting Model Update*>,\n",
       " 3: <gurobi.Constr *Awaiting Model Update*>,\n",
       " 4: <gurobi.Constr *Awaiting Model Update*>}"
      ]
     },
     "execution_count": 11,
     "metadata": {},
     "output_type": "execute_result"
    }
   ],
   "source": [
    "model.addConstrs(sum(X[i,j] for j in range(J)) == 1 for i in range(I))"
   ]
  },
  {
   "cell_type": "code",
   "execution_count": 12,
   "id": "61c4e773",
   "metadata": {},
   "outputs": [
    {
     "data": {
      "text/plain": [
       "{0: <gurobi.Constr *Awaiting Model Update*>,\n",
       " 1: <gurobi.Constr *Awaiting Model Update*>,\n",
       " 2: <gurobi.Constr *Awaiting Model Update*>,\n",
       " 3: <gurobi.Constr *Awaiting Model Update*>,\n",
       " 4: <gurobi.Constr *Awaiting Model Update*>}"
      ]
     },
     "execution_count": 12,
     "metadata": {},
     "output_type": "execute_result"
    }
   ],
   "source": [
    "model.addConstrs(sum(ship_time[i][j]*X[i,j] for j in range(J)) <= 1.5 for i in range(I))"
   ]
  },
  {
   "cell_type": "code",
   "execution_count": 13,
   "id": "325da6bf",
   "metadata": {},
   "outputs": [
    {
     "data": {
      "text/plain": [
       "{0: <gurobi.Constr *Awaiting Model Update*>,\n",
       " 1: <gurobi.Constr *Awaiting Model Update*>,\n",
       " 2: <gurobi.Constr *Awaiting Model Update*>,\n",
       " 3: <gurobi.Constr *Awaiting Model Update*>,\n",
       " 4: <gurobi.Constr *Awaiting Model Update*>}"
      ]
     },
     "execution_count": 13,
     "metadata": {},
     "output_type": "execute_result"
    }
   ],
   "source": [
    "model.addConstrs(sum(customer_portion[i]*X[i,j] for i in range(I)) <= 0.6 for j in range(J))"
   ]
  },
  {
   "cell_type": "code",
   "execution_count": 14,
   "id": "c06b531f",
   "metadata": {},
   "outputs": [
    {
     "data": {
      "text/plain": [
       "<gurobi.Constr *Awaiting Model Update*>"
      ]
     },
     "execution_count": 14,
     "metadata": {},
     "output_type": "execute_result"
    }
   ],
   "source": [
    "model.addConstr(sum(Y[j] for j in range(J)) <= 3)\n",
    "model.addConstr(sum(Y[j] for j in range(J)) >= 2)"
   ]
  },
  {
   "cell_type": "code",
   "execution_count": 15,
   "id": "320f49a0",
   "metadata": {
    "scrolled": false
   },
   "outputs": [
    {
     "data": {
      "text/plain": [
       "{(0, 0): <gurobi.Constr *Awaiting Model Update*>,\n",
       " (0, 1): <gurobi.Constr *Awaiting Model Update*>,\n",
       " (0, 2): <gurobi.Constr *Awaiting Model Update*>,\n",
       " (0, 3): <gurobi.Constr *Awaiting Model Update*>,\n",
       " (0, 4): <gurobi.Constr *Awaiting Model Update*>,\n",
       " (1, 0): <gurobi.Constr *Awaiting Model Update*>,\n",
       " (1, 1): <gurobi.Constr *Awaiting Model Update*>,\n",
       " (1, 2): <gurobi.Constr *Awaiting Model Update*>,\n",
       " (1, 3): <gurobi.Constr *Awaiting Model Update*>,\n",
       " (1, 4): <gurobi.Constr *Awaiting Model Update*>,\n",
       " (2, 0): <gurobi.Constr *Awaiting Model Update*>,\n",
       " (2, 1): <gurobi.Constr *Awaiting Model Update*>,\n",
       " (2, 2): <gurobi.Constr *Awaiting Model Update*>,\n",
       " (2, 3): <gurobi.Constr *Awaiting Model Update*>,\n",
       " (2, 4): <gurobi.Constr *Awaiting Model Update*>,\n",
       " (3, 0): <gurobi.Constr *Awaiting Model Update*>,\n",
       " (3, 1): <gurobi.Constr *Awaiting Model Update*>,\n",
       " (3, 2): <gurobi.Constr *Awaiting Model Update*>,\n",
       " (3, 3): <gurobi.Constr *Awaiting Model Update*>,\n",
       " (3, 4): <gurobi.Constr *Awaiting Model Update*>,\n",
       " (4, 0): <gurobi.Constr *Awaiting Model Update*>,\n",
       " (4, 1): <gurobi.Constr *Awaiting Model Update*>,\n",
       " (4, 2): <gurobi.Constr *Awaiting Model Update*>,\n",
       " (4, 3): <gurobi.Constr *Awaiting Model Update*>,\n",
       " (4, 4): <gurobi.Constr *Awaiting Model Update*>}"
      ]
     },
     "execution_count": 15,
     "metadata": {},
     "output_type": "execute_result"
    }
   ],
   "source": [
    "model.addConstrs(X[i,j] <= Y[j] for i in range(I) for j in range(J))"
   ]
  },
  {
   "cell_type": "code",
   "execution_count": 16,
   "id": "d70ad322",
   "metadata": {},
   "outputs": [],
   "source": [
    "model.Params.LogToConsole=0\n",
    "model.optimize()"
   ]
  },
  {
   "cell_type": "code",
   "execution_count": 18,
   "id": "ebf13eea",
   "metadata": {},
   "outputs": [
    {
     "name": "stdout",
     "output_type": "stream",
     "text": [
      "Service center in cityParis = 1.0\n",
      "Service center in cityRome = 1.0\n",
      "Fraction of demand in market England served from center Paris = 1.0\n",
      "Fraction of demand in market Germany served from center Paris = 0.5\n",
      "Fraction of demand in market Germany served from center Rome = 0.5\n",
      "Fraction of demand in market Switzerland served from center Rome = 1.0\n",
      "Fraction of demand in market Italy served from center Rome = 1.0\n",
      "Fraction of demand in market France served from center Paris = 0.33\n",
      "Fraction of demand in market France served from center Rome = 0.67\n"
     ]
    }
   ],
   "source": [
    "for v in model.getVars():\n",
    "    if v.x > 0:\n",
    "        print(f\"{v.varname} = {round(v.x,2)}\")"
   ]
  },
  {
   "cell_type": "code",
   "execution_count": 20,
   "id": "7ca18016",
   "metadata": {},
   "outputs": [
    {
     "data": {
      "text/plain": [
       "38.0"
      ]
     },
     "execution_count": 20,
     "metadata": {},
     "output_type": "execute_result"
    }
   ],
   "source": [
    "model.ObjVal"
   ]
  },
  {
   "cell_type": "code",
   "execution_count": null,
   "id": "3b1fba00",
   "metadata": {},
   "outputs": [],
   "source": []
  },
  {
   "cell_type": "code",
   "execution_count": null,
   "id": "07a00260",
   "metadata": {},
   "outputs": [],
   "source": []
  }
 ],
 "metadata": {
  "kernelspec": {
   "display_name": "opt",
   "language": "python",
   "name": "opt"
  },
  "language_info": {
   "codemirror_mode": {
    "name": "ipython",
    "version": 3
   },
   "file_extension": ".py",
   "mimetype": "text/x-python",
   "name": "python",
   "nbconvert_exporter": "python",
   "pygments_lexer": "ipython3",
   "version": "3.11.4"
  }
 },
 "nbformat": 4,
 "nbformat_minor": 5
}
