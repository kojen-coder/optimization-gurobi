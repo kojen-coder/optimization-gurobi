{
 "cells": [
  {
   "cell_type": "markdown",
   "metadata": {},
   "source": [
    "## Linear Optimization - Supplier Selection Case"
   ]
  },
  {
   "cell_type": "markdown",
   "metadata": {},
   "source": [
    "### Solution 1\n",
    "Using \"the list's length\" as the first argument in the desicion variable, so the variable X will be 0, 1, 2, ...7."
   ]
  },
  {
   "cell_type": "code",
   "execution_count": 1,
   "metadata": {
    "tags": []
   },
   "outputs": [],
   "source": [
    "import gurobipy as gb\n",
    "from gurobipy import *\n",
    "import numpy as np"
   ]
  },
  {
   "cell_type": "code",
   "execution_count": 2,
   "metadata": {
    "tags": []
   },
   "outputs": [],
   "source": [
    "#Data\n",
    "mines_list = ['Ashley','Bedford','Consol','Dunby','Earlam','Florence','Gaston','Hopt']\n",
    "mines_capacity = [300, 600, 510, 655, 575, 680, 450, 490] # (mt/yr)\n",
    "mines_price = [49500, 50000, 61000, 63500, 66500, 71000, 72500, 80000] # ($/mt)\n",
    "\n",
    "m = len(mines_list)\n",
    "p = len(mines_price)\n",
    "c = len(mines_capacity)"
   ]
  },
  {
   "cell_type": "code",
   "execution_count": 3,
   "metadata": {
    "tags": []
   },
   "outputs": [
    {
     "name": "stdout",
     "output_type": "stream",
     "text": [
      "Set parameter Username\n",
      "Academic license - for non-commercial use only - expires 2024-08-30\n"
     ]
    }
   ],
   "source": [
    "prob = gb.Model(\"Supplier Selection\")"
   ]
  },
  {
   "cell_type": "code",
   "execution_count": 4,
   "metadata": {
    "tags": []
   },
   "outputs": [],
   "source": [
    "X = prob.addVars(m, lb=0, ub=mines_capacity, vtype=GRB.CONTINUOUS, name = [\"X_number of coal purchased from \" +i for i in mines_list])"
   ]
  },
  {
   "cell_type": "code",
   "execution_count": 5,
   "metadata": {
    "tags": []
   },
   "outputs": [
    {
     "data": {
      "text/plain": [
       "{0: <gurobi.Var *Awaiting Model Update*>,\n",
       " 1: <gurobi.Var *Awaiting Model Update*>,\n",
       " 2: <gurobi.Var *Awaiting Model Update*>,\n",
       " 3: <gurobi.Var *Awaiting Model Update*>,\n",
       " 4: <gurobi.Var *Awaiting Model Update*>,\n",
       " 5: <gurobi.Var *Awaiting Model Update*>,\n",
       " 6: <gurobi.Var *Awaiting Model Update*>,\n",
       " 7: <gurobi.Var *Awaiting Model Update*>}"
      ]
     },
     "execution_count": 5,
     "metadata": {},
     "output_type": "execute_result"
    }
   ],
   "source": [
    "X"
   ]
  },
  {
   "cell_type": "code",
   "execution_count": 6,
   "metadata": {
    "tags": []
   },
   "outputs": [],
   "source": [
    "prob.setObjective(sum(mines_price[i]*X[i] for i in range(m)), GRB.MINIMIZE)"
   ]
  },
  {
   "cell_type": "code",
   "execution_count": 7,
   "metadata": {
    "tags": []
   },
   "outputs": [
    {
     "data": {
      "text/plain": [
       "<gurobi.Constr *Awaiting Model Update*>"
      ]
     },
     "execution_count": 7,
     "metadata": {},
     "output_type": "execute_result"
    }
   ],
   "source": [
    "# A + B + C + D + E + F + G + H = 1225\n",
    "prob.addConstr(sum(X[i] for i in range(m)) == 1225, name =\"Procure of coking coal\") "
   ]
  },
  {
   "cell_type": "code",
   "execution_count": 8,
   "metadata": {
    "tags": []
   },
   "outputs": [
    {
     "data": {
      "text/plain": [
       "<gurobi.Constr *Awaiting Model Update*>"
      ]
     },
     "execution_count": 8,
     "metadata": {},
     "output_type": "execute_result"
    }
   ],
   "source": [
    "# A + B + D + F − C − E − G − H >= 0\n",
    "union = [1, 1, -1, 1, -1, 1, -1, -1]\n",
    "\n",
    "prob.addConstr(sum(X[i]*union[i] for i in range(m)) >= 0, name =\"Coal from union mines\")"
   ]
  },
  {
   "cell_type": "code",
   "execution_count": 9,
   "metadata": {
    "tags": []
   },
   "outputs": [
    {
     "data": {
      "text/plain": [
       "<gurobi.Constr *Awaiting Model Update*>"
      ]
     },
     "execution_count": 9,
     "metadata": {},
     "output_type": "execute_result"
    }
   ],
   "source": [
    "# A + C + G + H <= 650\n",
    "rail = [1, 0, 1, 0, 0, 0, 1, 1]\n",
    "\n",
    "prob.addConstr(sum(X[i]*rail[i] for i in range(m)) <= 650, name =\"transported via rail\") "
   ]
  },
  {
   "cell_type": "code",
   "execution_count": 10,
   "metadata": {
    "tags": []
   },
   "outputs": [
    {
     "data": {
      "text/plain": [
       "<gurobi.Constr *Awaiting Model Update*>"
      ]
     },
     "execution_count": 10,
     "metadata": {},
     "output_type": "execute_result"
    }
   ],
   "source": [
    "# B + D + E + F <= 720\n",
    "trucks =[0, 1, 0, 1, 1, 1, 0, 0]\n",
    "\n",
    "prob.addConstr(sum(X[i]*trucks[i] for i in range(m)) <= 720, name =\"transported via trucks\") "
   ]
  },
  {
   "cell_type": "code",
   "execution_count": 11,
   "metadata": {
    "tags": []
   },
   "outputs": [
    {
     "data": {
      "text/plain": [
       "<gurobi.Constr *Awaiting Model Update*>"
      ]
     },
     "execution_count": 11,
     "metadata": {},
     "output_type": "execute_result"
    }
   ],
   "source": [
    "# −0.04A − 0.03B − 0.01C + 0.01D + 0.02E+ 0.03F + 0.04G + 0.06H >= 0\n",
    "vol = [-0.04, -0.03, -0.01, 0.01, 0.02, 0.03, 0.04, 0.06]\n",
    "\n",
    "prob.addConstr(sum(X[i]*vol[i] for i in range(m)) >= 0, name =\"The average volatility\")"
   ]
  },
  {
   "cell_type": "code",
   "execution_count": 12,
   "metadata": {},
   "outputs": [],
   "source": [
    "for i in range(m):\n",
    "    prob.addConstr(X[i] <= mines_capacity[i], name = f'capacity_{X[i]}')\n"
   ]
  },
  {
   "cell_type": "code",
   "execution_count": 13,
   "metadata": {
    "tags": []
   },
   "outputs": [
    {
     "name": "stdout",
     "output_type": "stream",
     "text": [
      "Gurobi Optimizer version 10.0.2 build v10.0.2rc0 (mac64[x86])\n",
      "\n",
      "CPU model: Intel(R) Core(TM) i9-9880H CPU @ 2.30GHz\n",
      "Thread count: 8 physical cores, 16 logical processors, using up to 16 threads\n",
      "\n",
      "Optimize a model with 13 rows, 8 columns and 40 nonzeros\n",
      "Model fingerprint: 0xfbaf32e1\n",
      "Coefficient statistics:\n",
      "  Matrix range     [1e-02, 1e+00]\n",
      "  Objective range  [5e+04, 8e+04]\n",
      "  Bounds range     [3e+02, 7e+02]\n",
      "  RHS range        [3e+02, 1e+03]\n",
      "Presolve removed 8 rows and 0 columns\n",
      "Presolve time: 0.00s\n",
      "Presolved: 5 rows, 8 columns, 32 nonzeros\n",
      "\n",
      "Iteration    Objective       Primal Inf.    Dual Inf.      Time\n",
      "       0    6.0637500e+07   2.855000e+02   0.000000e+00      0s\n",
      "       5    7.3267500e+07   0.000000e+00   0.000000e+00      0s\n",
      "\n",
      "Solved in 5 iterations and 0.01 seconds (0.00 work units)\n",
      "Optimal objective  7.326750000e+07\n"
     ]
    }
   ],
   "source": [
    "prob.optimize()"
   ]
  },
  {
   "cell_type": "code",
   "execution_count": 14,
   "metadata": {
    "tags": []
   },
   "outputs": [
    {
     "name": "stdout",
     "output_type": "stream",
     "text": [
      "X_number of coal purchased from Ashley = 55\n",
      "X_number of coal purchased from Bedford = 600\n",
      "X_number of coal purchased from Consol = 0\n",
      "X_number of coal purchased from Dunby = 20\n",
      "X_number of coal purchased from Earlam = 100\n",
      "X_number of coal purchased from Florence = 0\n",
      "X_number of coal purchased from Gaston = 450\n",
      "X_number of coal purchased from Hopt = 0\n",
      "Optimal Objective Value: 73267500.0\n"
     ]
    }
   ],
   "source": [
    "for v in prob.getVars():    \n",
    "    print(v.varName, \"=\", round(v.x))\n",
    "print(f\"Optimal Objective Value: {prob.ObjVal}\")"
   ]
  },
  {
   "cell_type": "markdown",
   "metadata": {},
   "source": [
    "### Solution 2\n",
    "Using \"list\" as the first argument in the desicion variable, so the variable X will be the value in the list, such as X[0], X[1], ...X[7]."
   ]
  },
  {
   "cell_type": "code",
   "execution_count": 15,
   "metadata": {},
   "outputs": [
    {
     "name": "stdout",
     "output_type": "stream",
     "text": [
      "Gurobi Optimizer version 10.0.2 build v10.0.2rc0 (mac64[x86])\n",
      "\n",
      "CPU model: Intel(R) Core(TM) i9-9880H CPU @ 2.30GHz\n",
      "Thread count: 8 physical cores, 16 logical processors, using up to 16 threads\n",
      "\n",
      "Optimize a model with 13 rows, 8 columns and 40 nonzeros\n",
      "Model fingerprint: 0x72a5a292\n",
      "Coefficient statistics:\n",
      "  Matrix range     [1e-02, 1e+00]\n",
      "  Objective range  [5e+04, 8e+04]\n",
      "  Bounds range     [0e+00, 0e+00]\n",
      "  RHS range        [3e+02, 1e+03]\n",
      "Presolve removed 8 rows and 0 columns\n",
      "Presolve time: 0.00s\n",
      "Presolved: 5 rows, 8 columns, 32 nonzeros\n",
      "\n",
      "Iteration    Objective       Primal Inf.    Dual Inf.      Time\n",
      "       0    6.0637500e+07   2.855000e+02   0.000000e+00      0s\n",
      "       5    7.3267500e+07   0.000000e+00   0.000000e+00      0s\n",
      "\n",
      "Solved in 5 iterations and 0.01 seconds (0.00 work units)\n",
      "Optimal objective  7.326750000e+07\n",
      "\n",
      "Optimal solution found:\n",
      "X[A] = 55.0\n",
      "X[B] = 600.0\n",
      "X[C] = 0.0\n",
      "X[D] = 19.999999999999943\n",
      "X[E] = 100.00000000000006\n",
      "X[F] = 0.0\n",
      "X[G] = 450.0\n",
      "X[H] = 0.0\n",
      "Optimal Objective Value: 73267500.0\n"
     ]
    }
   ],
   "source": [
    "# Create a new model\n",
    "prob = gb.Model(\"Supplier Selection\")\n",
    "\n",
    "# Data\n",
    "mines_list = ['Ashley','Bedford','Consol','Dunby','Earlam','Florence','Gaston','Hopt']\n",
    "mines_capacity = [300, 600, 510, 655, 575, 680, 450, 490] # (mt/yr)\n",
    "mines_price = [49500, 50000, 61000, 63500, 66500, 71000, 72500, 80000]\n",
    "union = [1, 1, -1, 1, -1, 1, -1, -1]\n",
    "rail = [1, 0, 1, 0, 0, 0, 1, 1]\n",
    "trucks =[0, 1, 0, 1, 1, 1, 0, 0]\n",
    "vol = [-0.04, -0.03, -0.01, 0.01, 0.02, 0.03, 0.04, 0.06]\n",
    "\n",
    "# Create variables\n",
    "X = prob.addVars(mines_list, lb=0, ub=mines_capacity, vtype=GRB.CONTINUOUS, name = [\"X_number of coal purchased from \" +i for i in mines_list])\n",
    "\n",
    "# Set objective\n",
    "prob.setObjective(sum(mines_price[i]*X[j] for i, j in enumerate(mines_list)), GRB.MINIMIZE)\n",
    "\n",
    "# Add constraints\n",
    "prob.addConstr(sum(X[i] for i in mines_list) == 1225, name =\"Procure of coking coal\") \n",
    "prob.addConstr(sum(union[i]* X[j] for i,j in enumerate(mines_list)) >= 0, name =\"Coal from union mines\")\n",
    "prob.addConstr(sum(rail[i]*X[j] for i,j in enumerate(mines_list)) <= 650, name =\"transported via rail\") \n",
    "prob.addConstr(sum(trucks[i]*X[i] for i,j in enumerate(mines_list)) <= 720, name =\"transported via trucks\") \n",
    "prob.addConstr(sum(vol[i]*X[j] for i,j in enumerate(mines_list)) >= 0, name =\"The average volatility\")\n",
    "\n",
    "# Capacity constraints\n",
    "for mine, capacity in zip(mines_list, mines_capacity):\n",
    "    prob.addConstr(X[mine] <= capacity, f\"capacity_{mine}\")\n",
    "\n",
    "# Non-negativity constraints are by default for the CONTINUOUS type.\n",
    "\n",
    "# Optimize the model\n",
    "prob.optimize()\n",
    "\n",
    "# Display the results\n",
    "if m.status == GRB.OPTIMAL:\n",
    "    print('\\nOptimal solution found:')\n",
    "    for v in m.getVars():\n",
    "        print(f\"{v.varName} = {v.x}\")\n",
    "    print(f\"Optimal Objective Value: {m.ObjVal}\")\n",
    "else:\n",
    "    print('No solution found')\n"
   ]
  },
  {
   "cell_type": "code",
   "execution_count": null,
   "metadata": {},
   "outputs": [],
   "source": []
  }
 ],
 "metadata": {
  "kernelspec": {
   "display_name": "opt",
   "language": "python",
   "name": "opt"
  },
  "language_info": {
   "codemirror_mode": {
    "name": "ipython",
    "version": 3
   },
   "file_extension": ".py",
   "mimetype": "text/x-python",
   "name": "python",
   "nbconvert_exporter": "python",
   "pygments_lexer": "ipython3",
   "version": "3.11.4"
  }
 },
 "nbformat": 4,
 "nbformat_minor": 4
}
